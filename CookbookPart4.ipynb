{
 "cells": [
  {
   "cell_type": "code",
   "execution_count": 5,
   "id": "b0929d41-4ef5-4d6f-b8ad-eb22d7254517",
   "metadata": {},
   "outputs": [],
   "source": [
    "from IPython.core.magic import (register_line_magic,\n",
    "                                register_cell_magic)"
   ]
  },
  {
   "cell_type": "code",
   "execution_count": 10,
   "id": "be9090aa-8acb-44e0-b314-d280882075fb",
   "metadata": {},
   "outputs": [],
   "source": [
    "@register_line_magic\n",
    "def deep(line):\n",
    "    if line == 'spanish':\n",
    "        print(\"Hola mi amore!\")\n",
    "    else:\n",
    "        print(\"Hi boi!\")"
   ]
  },
  {
   "cell_type": "code",
   "execution_count": 11,
   "id": "dedb9ac3-5af7-44d6-8a3f-f2e83352c8a3",
   "metadata": {},
   "outputs": [
    {
     "name": "stdout",
     "output_type": "stream",
     "text": [
      "Hi boi!\n"
     ]
    }
   ],
   "source": [
    "%deep"
   ]
  },
  {
   "cell_type": "code",
   "execution_count": 12,
   "id": "73f10be2-0579-4171-afec-87143182bdf2",
   "metadata": {},
   "outputs": [
    {
     "name": "stdout",
     "output_type": "stream",
     "text": [
      "Hola mi amore!\n"
     ]
    }
   ],
   "source": [
    "%deep spanish"
   ]
  },
  {
   "cell_type": "markdown",
   "id": "05925b86-582c-456d-a4e6-0e0385aa7ca4",
   "metadata": {},
   "source": [
    "define and register own magic lines\n",
    "change:\n",
    "hello -> deep\n",
    "french -> spanish\n",
    "hello world -> hi boi"
   ]
  },
  {
   "cell_type": "code",
   "execution_count": 21,
   "id": "69de9009-67cd-4f4f-84d4-fa242935b714",
   "metadata": {},
   "outputs": [],
   "source": [
    "import pandas as pd\n",
    "from io import StringIO\n",
    "@register_cell_magic\n",
    "def tabelle(line, cell):\n",
    "      sio = StringIO(cell)\n",
    "      return pd.read_csv(sio)\n"
   ]
  },
  {
   "cell_type": "code",
   "execution_count": 23,
   "id": "27694a7e-6ea3-4c0f-b301-8926c907ab10",
   "metadata": {},
   "outputs": [
    {
     "data": {
      "text/html": [
       "<div>\n",
       "<style scoped>\n",
       "    .dataframe tbody tr th:only-of-type {\n",
       "        vertical-align: middle;\n",
       "    }\n",
       "\n",
       "    .dataframe tbody tr th {\n",
       "        vertical-align: top;\n",
       "    }\n",
       "\n",
       "    .dataframe thead th {\n",
       "        text-align: right;\n",
       "    }\n",
       "</style>\n",
       "<table border=\"1\" class=\"dataframe\">\n",
       "  <thead>\n",
       "    <tr style=\"text-align: right;\">\n",
       "      <th></th>\n",
       "      <th>col1</th>\n",
       "      <th>col2</th>\n",
       "      <th>col3</th>\n",
       "    </tr>\n",
       "  </thead>\n",
       "  <tbody>\n",
       "    <tr>\n",
       "      <th>0</th>\n",
       "      <td>9</td>\n",
       "      <td>8</td>\n",
       "      <td>7</td>\n",
       "    </tr>\n",
       "    <tr>\n",
       "      <th>1</th>\n",
       "      <td>6</td>\n",
       "      <td>5</td>\n",
       "      <td>4</td>\n",
       "    </tr>\n",
       "    <tr>\n",
       "      <th>2</th>\n",
       "      <td>3</td>\n",
       "      <td>2</td>\n",
       "      <td>1</td>\n",
       "    </tr>\n",
       "  </tbody>\n",
       "</table>\n",
       "</div>"
      ],
      "text/plain": [
       "   col1  col2  col3\n",
       "0     9     8     7\n",
       "1     6     5     4\n",
       "2     3     2     1"
      ]
     },
     "execution_count": 23,
     "metadata": {},
     "output_type": "execute_result"
    }
   ],
   "source": [
    "%%tabelle\n",
    "col1,col2,col3\n",
    "9,8,7\n",
    "6,5,4\n",
    "3,2,1"
   ]
  },
  {
   "cell_type": "markdown",
   "id": "dd3e8867-f10e-43bd-a1f8-3b445e205b96",
   "metadata": {},
   "source": [
    "define  tabelle -> creating a table \n",
    "change:\n",
    "csv -> tabelle\n",
    "columns numbers reversed"
   ]
  },
  {
   "cell_type": "code",
   "execution_count": 24,
   "id": "0646c7e4-62f8-4c93-b8c6-bd38a5a188b5",
   "metadata": {},
   "outputs": [
    {
     "data": {
      "text/html": [
       "<div>\n",
       "<style scoped>\n",
       "    .dataframe tbody tr th:only-of-type {\n",
       "        vertical-align: middle;\n",
       "    }\n",
       "\n",
       "    .dataframe tbody tr th {\n",
       "        vertical-align: top;\n",
       "    }\n",
       "\n",
       "    .dataframe thead th {\n",
       "        text-align: right;\n",
       "    }\n",
       "</style>\n",
       "<table border=\"1\" class=\"dataframe\">\n",
       "  <thead>\n",
       "    <tr style=\"text-align: right;\">\n",
       "      <th></th>\n",
       "      <th>col1</th>\n",
       "      <th>col2</th>\n",
       "      <th>col3</th>\n",
       "    </tr>\n",
       "  </thead>\n",
       "  <tbody>\n",
       "    <tr>\n",
       "      <th>count</th>\n",
       "      <td>3.0</td>\n",
       "      <td>3.0</td>\n",
       "      <td>3.0</td>\n",
       "    </tr>\n",
       "    <tr>\n",
       "      <th>mean</th>\n",
       "      <td>6.0</td>\n",
       "      <td>5.0</td>\n",
       "      <td>4.0</td>\n",
       "    </tr>\n",
       "    <tr>\n",
       "      <th>std</th>\n",
       "      <td>3.0</td>\n",
       "      <td>3.0</td>\n",
       "      <td>3.0</td>\n",
       "    </tr>\n",
       "    <tr>\n",
       "      <th>min</th>\n",
       "      <td>3.0</td>\n",
       "      <td>2.0</td>\n",
       "      <td>1.0</td>\n",
       "    </tr>\n",
       "    <tr>\n",
       "      <th>25%</th>\n",
       "      <td>4.5</td>\n",
       "      <td>3.5</td>\n",
       "      <td>2.5</td>\n",
       "    </tr>\n",
       "    <tr>\n",
       "      <th>50%</th>\n",
       "      <td>6.0</td>\n",
       "      <td>5.0</td>\n",
       "      <td>4.0</td>\n",
       "    </tr>\n",
       "    <tr>\n",
       "      <th>75%</th>\n",
       "      <td>7.5</td>\n",
       "      <td>6.5</td>\n",
       "      <td>5.5</td>\n",
       "    </tr>\n",
       "    <tr>\n",
       "      <th>max</th>\n",
       "      <td>9.0</td>\n",
       "      <td>8.0</td>\n",
       "      <td>7.0</td>\n",
       "    </tr>\n",
       "  </tbody>\n",
       "</table>\n",
       "</div>"
      ],
      "text/plain": [
       "       col1  col2  col3\n",
       "count   3.0   3.0   3.0\n",
       "mean    6.0   5.0   4.0\n",
       "std     3.0   3.0   3.0\n",
       "min     3.0   2.0   1.0\n",
       "25%     4.5   3.5   2.5\n",
       "50%     6.0   5.0   4.0\n",
       "75%     7.5   6.5   5.5\n",
       "max     9.0   8.0   7.0"
      ]
     },
     "execution_count": 24,
     "metadata": {},
     "output_type": "execute_result"
    }
   ],
   "source": [
    "df = _\n",
    "df.describe()"
   ]
  },
  {
   "cell_type": "markdown",
   "id": "ae8cb0b2-baec-4dec-b701-f433db43a33e",
   "metadata": {},
   "source": [
    "previous object returned with _"
   ]
  },
  {
   "cell_type": "code",
   "execution_count": 34,
   "id": "aa55f476-8468-428a-b116-2f4c1059fe7a",
   "metadata": {},
   "outputs": [
    {
     "name": "stdout",
     "output_type": "stream",
     "text": [
      "Overwriting csvmagic.py\n"
     ]
    }
   ],
   "source": [
    "%%writefile csvmagic.py\n",
    "import pandas as pd\n",
    "from io import StringIO\n",
    "\n",
    "def karma(line, cell):\n",
    "    sio = StringIO(cell)\n",
    "    return pd.read_csv(sio)\n",
    "\n",
    "def load_ipython_extension(ipython):\n",
    "    \"\"\"This function is called when the extension is\n",
    "    loaded. It accepts an IPython InteractiveShell\n",
    "    instance. We can register the magic with the\n",
    "    `register_magic_function` method of the shell\n",
    "    instance.\"\"\"\n",
    "    ipython.register_magic_function(csv, 'cell')"
   ]
  },
  {
   "cell_type": "markdown",
   "id": "63d3753d-ec1d-460b-b599-c3b19a0bb3f3",
   "metadata": {},
   "source": [
    "use same magic in other notebooks: need IPython extension - first created python script (csvmagic.py); also define special funcion\n",
    "change:\n",
    "csv -> karma"
   ]
  },
  {
   "cell_type": "code",
   "execution_count": 36,
   "id": "1287e8c8-3ba1-4754-a401-18d99dd61c6e",
   "metadata": {},
   "outputs": [
    {
     "name": "stdout",
     "output_type": "stream",
     "text": [
      "The csvmagic extension is already loaded. To reload it, use:\n",
      "  %reload_ext csvmagic\n"
     ]
    }
   ],
   "source": [
    "%load_ext csvmagic"
   ]
  },
  {
   "cell_type": "markdown",
   "id": "6a035b24-9163-4a32-9eb9-14c11817b926",
   "metadata": {},
   "source": [
    "import extension into Python session: %load_ext"
   ]
  },
  {
   "cell_type": "code",
   "execution_count": 38,
   "id": "b7835a13-0be7-4541-a01e-143c24c44451",
   "metadata": {},
   "outputs": [
    {
     "data": {
      "text/html": [
       "<div>\n",
       "<style scoped>\n",
       "    .dataframe tbody tr th:only-of-type {\n",
       "        vertical-align: middle;\n",
       "    }\n",
       "\n",
       "    .dataframe tbody tr th {\n",
       "        vertical-align: top;\n",
       "    }\n",
       "\n",
       "    .dataframe thead th {\n",
       "        text-align: right;\n",
       "    }\n",
       "</style>\n",
       "<table border=\"1\" class=\"dataframe\">\n",
       "  <thead>\n",
       "    <tr style=\"text-align: right;\">\n",
       "      <th></th>\n",
       "      <th>col1</th>\n",
       "      <th>col2</th>\n",
       "      <th>col3</th>\n",
       "    </tr>\n",
       "  </thead>\n",
       "  <tbody>\n",
       "    <tr>\n",
       "      <th>0</th>\n",
       "      <td>9</td>\n",
       "      <td>8</td>\n",
       "      <td>7</td>\n",
       "    </tr>\n",
       "    <tr>\n",
       "      <th>1</th>\n",
       "      <td>6</td>\n",
       "      <td>5</td>\n",
       "      <td>4</td>\n",
       "    </tr>\n",
       "    <tr>\n",
       "      <th>2</th>\n",
       "      <td>3</td>\n",
       "      <td>2</td>\n",
       "      <td>1</td>\n",
       "    </tr>\n",
       "  </tbody>\n",
       "</table>\n",
       "</div>"
      ],
      "text/plain": [
       "   col1  col2  col3\n",
       "0     9     8     7\n",
       "1     6     5     4\n",
       "2     3     2     1"
      ]
     },
     "execution_count": 38,
     "metadata": {},
     "output_type": "execute_result"
    }
   ],
   "source": [
    "\n",
    "%%tabelle\n",
    "col1,col2,col3\n",
    "9,8,7\n",
    "6,5,4\n",
    "3,2,1"
   ]
  },
  {
   "cell_type": "code",
   "execution_count": null,
   "id": "0c223e82-8d73-4d30-8366-18d6e3d8342a",
   "metadata": {},
   "outputs": [],
   "source": [
    "change: \n",
    "reversed the nunmbers again"
   ]
  }
 ],
 "metadata": {
  "kernelspec": {
   "display_name": "Python 3 (ipykernel)",
   "language": "python",
   "name": "python3"
  },
  "language_info": {
   "codemirror_mode": {
    "name": "ipython",
    "version": 3
   },
   "file_extension": ".py",
   "mimetype": "text/x-python",
   "name": "python",
   "nbconvert_exporter": "python",
   "pygments_lexer": "ipython3",
   "version": "3.11.7"
  }
 },
 "nbformat": 4,
 "nbformat_minor": 5
}
