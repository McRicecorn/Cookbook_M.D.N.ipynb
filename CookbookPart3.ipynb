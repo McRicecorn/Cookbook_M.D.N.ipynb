{
 "cells": [
  {
   "cell_type": "code",
   "execution_count": 1,
   "id": "59cddc94-d6ad-44db-b4bb-d7177a721410",
   "metadata": {},
   "outputs": [],
   "source": [
    "import random\n",
    "import numpy as np"
   ]
  },
  {
   "cell_type": "markdown",
   "id": "869cd598-fd90-495c-a3fc-e3ae27541c5b",
   "metadata": {},
   "source": [
    "random python modul and Numpy"
   ]
  },
  {
   "cell_type": "code",
   "execution_count": 6,
   "id": "531be7f0-bd45-4194-b9e4-642b88a74b88",
   "metadata": {},
   "outputs": [
    {
     "data": {
      "text/plain": [
       "([0.8060840525241353, 0.8203355218897445],\n",
       " [0.7825342298052728, 0.9773195416783705, 0.09229614964430433])"
      ]
     },
     "execution_count": 6,
     "metadata": {},
     "output_type": "execute_result"
    }
   ],
   "source": [
    "n = 10\n",
    "x = [random.random() for _ in range(n)]\n",
    "y = [random.random() for _ in range(n)]\n",
    "x[:2], y[:3]"
   ]
  },
  {
   "cell_type": "markdown",
   "id": "0ca42487-1c3e-4122-93f4-ee1b83e78859",
   "metadata": {},
   "source": [
    "random number between 0 & 1\n",
    "change: \n",
    "n=1000000 -> 10\n",
    "x[:3] ->2"
   ]
  },
  {
   "cell_type": "code",
   "execution_count": 23,
   "id": "91872293-00fa-4e57-a649-857d0a1a5a70",
   "metadata": {},
   "outputs": [
    {
     "data": {
      "text/plain": [
       "[1.217, 1.061, 1.781]"
      ]
     },
     "execution_count": 23,
     "metadata": {},
     "output_type": "execute_result"
    }
   ],
   "source": [
    "z = [x[i] + y[i] for i in range(n)]\n",
    "z[:4]\n",
    "[1.217, 1.061, 1.781]"
   ]
  },
  {
   "cell_type": "code",
   "execution_count": null,
   "id": "2599fd5b-8a94-457e-8455-efadc0cf78b2",
   "metadata": {},
   "outputs": [],
   "source": [
    "change:\n",
    "z[:3 -> 4] nothing changed"
   ]
  },
  {
   "cell_type": "code",
   "execution_count": 11,
   "id": "62f3dcba-568c-446f-9824-ebf689f2b57d",
   "metadata": {},
   "outputs": [
    {
     "name": "stdout",
     "output_type": "stream",
     "text": [
      "761 ns ± 17.4 ns per loop (mean ± std. dev. of 7 runs, 1,000,000 loops each)\n"
     ]
    }
   ],
   "source": [
    "%timeit [x[i] + y[i] for i in range(n)]\n"
   ]
  },
  {
   "cell_type": "markdown",
   "id": "899b1bec-6ba4-4da5-9b53-3b3bb47f9e00",
   "metadata": {},
   "source": [
    "takes that long to compute"
   ]
  },
  {
   "cell_type": "code",
   "execution_count": 14,
   "id": "c92588cd-182c-4ca5-9112-2e695c9d7f70",
   "metadata": {},
   "outputs": [
    {
     "data": {
      "text/plain": [
       "array([0.80608405, 0.82033552, 0.44980385])"
      ]
     },
     "execution_count": 14,
     "metadata": {},
     "output_type": "execute_result"
    }
   ],
   "source": [
    "xa = np.array(x)\n",
    "ya = np.array(y)\n",
    "xa[:3]\n"
   ]
  },
  {
   "cell_type": "markdown",
   "id": "9c3dbde1-549e-4ca8-98b4-79e8daa9c74e",
   "metadata": {},
   "source": [
    "same with NumPy\n",
    "need to voncert lists to array\n",
    "xa & ya contain same thing as x & y\n",
    "arrays should be better than lists"
   ]
  },
  {
   "cell_type": "code",
   "execution_count": 20,
   "id": "36d03f7b-ac9b-4ea2-9bf5-3816b5252d87",
   "metadata": {},
   "outputs": [
    {
     "data": {
      "text/plain": [
       "array([1.58861828, 1.79765506, 0.5421    , 1.35955272, 0.78842066])"
      ]
     },
     "execution_count": 20,
     "metadata": {},
     "output_type": "execute_result"
    }
   ],
   "source": [
    "za = xa + ya\n",
    "za[:5]"
   ]
  },
  {
   "cell_type": "markdown",
   "id": "cb690c08-44f7-4ea4-88d6-c48c6c9662f5",
   "metadata": {},
   "source": [
    "array + array = adding elements of  arrays component by component\n",
    "change: \n",
    "za 3 -> 5\n",
    "numbers counted increased to the number"
   ]
  },
  {
   "cell_type": "code",
   "execution_count": 24,
   "id": "fcdf397a-3f60-4e23-8e9c-4bbb13762c8f",
   "metadata": {},
   "outputs": [
    {
     "name": "stdout",
     "output_type": "stream",
     "text": [
      "409 ns ± 3.16 ns per loop (mean ± std. dev. of 7 runs, 1,000,000 loops each)\n"
     ]
    }
   ],
   "source": [
    "%timeit xa + ya"
   ]
  },
  {
   "cell_type": "markdown",
   "id": "51827fc0-b81f-425b-9018-7f95d1d0d5b3",
   "metadata": {},
   "source": [
    "time faster compared to the previous one"
   ]
  },
  {
   "cell_type": "code",
   "execution_count": 25,
   "id": "6b092d8a-c1eb-4fa6-b0b3-85322649565c",
   "metadata": {},
   "outputs": [
    {
     "name": "stdout",
     "output_type": "stream",
     "text": [
      "108 ns ± 0.938 ns per loop (mean ± std. dev. of 7 runs, 10,000,000 loops each)\n"
     ]
    }
   ],
   "source": [
    "%timeit sum(x)"
   ]
  },
  {
   "cell_type": "markdown",
   "id": "eeabdc6c-d849-4435-b507-0e066849fe12",
   "metadata": {},
   "source": [
    "pure python;"
   ]
  },
  {
   "cell_type": "code",
   "execution_count": 26,
   "id": "2be2b336-28b5-4cf4-9a26-10f14b9161bf",
   "metadata": {},
   "outputs": [
    {
     "name": "stdout",
     "output_type": "stream",
     "text": [
      "3.09 µs ± 53.8 ns per loop (mean ± std. dev. of 7 runs, 100,000 loops each)\n"
     ]
    }
   ],
   "source": [
    "%timeit np.sum(xa)"
   ]
  },
  {
   "cell_type": "markdown",
   "id": "0c50f375-3386-4709-a308-a6005a77fb9b",
   "metadata": {},
   "source": [
    "NumPy is faster"
   ]
  },
  {
   "cell_type": "code",
   "execution_count": 29,
   "id": "24d98596-3eb0-4f0e-8138-99d161877d29",
   "metadata": {},
   "outputs": [
    {
     "data": {
      "text/plain": [
       "[0.023549822718862523,\n",
       " 0.17123548915423525,\n",
       " 0.713787902879831,\n",
       " 0.21738280871824622,\n",
       " 0.6564611510355851]"
      ]
     },
     "execution_count": 29,
     "metadata": {},
     "output_type": "execute_result"
    }
   ],
   "source": [
    "d = [abs(x[i] - y[j])\n",
    "     for i in range(10)\n",
    "     for j in range(10)]\n",
    "d[:5]"
   ]
  },
  {
   "cell_type": "markdown",
   "id": "ecf2a3cc-8c6e-4acb-b468-d469d8844ecc",
   "metadata": {},
   "source": [
    "change:\n",
    "range 1000 (out of range -> dont function) -> 10 (in range)\n",
    "d 3 -> 5 - 5 results"
   ]
  },
  {
   "cell_type": "code",
   "execution_count": 33,
   "id": "1e8f8852-6413-4446-bcbb-c76e73e4400a",
   "metadata": {},
   "outputs": [
    {
     "data": {
      "text/plain": [
       "array([[0.02354982, 0.17123549, 0.7137879 , 0.21738281, 0.65646115,\n",
       "        0.63176478, 0.01793202, 0.48942642, 0.01997062, 0.46033584],\n",
       "       [0.03780129, 0.15698402, 0.72803937, 0.23163428, 0.67071262,\n",
       "        0.64601625, 0.00368055, 0.50367789, 0.03422209, 0.47458731],\n",
       "       [0.33273038, 0.52751569, 0.3575077 , 0.1388974 , 0.30018095,\n",
       "        0.27548458, 0.37421223, 0.13314622, 0.33630958, 0.10405563],\n",
       "       [0.01168275, 0.20646806, 0.67855533, 0.18215024, 0.62122858,\n",
       "        0.59653221, 0.0531646 , 0.45419385, 0.01526195, 0.42510327],\n",
       "       [0.14373647, 0.33852178, 0.54650161, 0.05009652, 0.48917486,\n",
       "        0.46447849, 0.18521832, 0.32214013, 0.14731567, 0.29304955],\n",
       "       [0.39899166, 0.59377697, 0.29124642, 0.20515867, 0.23391967,\n",
       "        0.2092233 , 0.44047351, 0.06688494, 0.40257086, 0.03779436],\n",
       "       [0.37195616, 0.56674147, 0.31828192, 0.17812317, 0.26095517,\n",
       "        0.2362588 , 0.413438  , 0.09392044, 0.37553536, 0.06482986],\n",
       "       [0.15159324, 0.04319207, 0.84183132, 0.34542623, 0.78450457,\n",
       "        0.7598082 , 0.1101114 , 0.61746984, 0.14801404, 0.58837926],\n",
       "       [0.07846292, 0.11632239, 0.768701  , 0.27229591, 0.71137425,\n",
       "        0.68667788, 0.03698108, 0.54433952, 0.07488372, 0.51524894],\n",
       "       [0.13185709, 0.3266424 , 0.55838099, 0.0619759 , 0.50105424,\n",
       "        0.47635787, 0.17333893, 0.33401951, 0.13543629, 0.30492893]])"
      ]
     },
     "execution_count": 33,
     "metadata": {},
     "output_type": "execute_result"
    }
   ],
   "source": [
    "da = np.abs(xa[:10, np.newaxis] - ya[:10])\n",
    "da"
   ]
  },
  {
   "cell_type": "markdown",
   "id": "9d9d1531-927a-4e27-acec-61d4b976020c",
   "metadata": {},
   "source": [
    "change:\n",
    "from 1000 -> 10 : slight change seen"
   ]
  },
  {
   "cell_type": "code",
   "execution_count": 38,
   "id": "ce2c19ec-4994-4a2c-b65e-2429a57cf1f2",
   "metadata": {},
   "outputs": [
    {
     "name": "stdout",
     "output_type": "stream",
     "text": [
      "8.55 µs ± 76.7 ns per loop (mean ± std. dev. of 7 runs, 100,000 loops each)\n"
     ]
    }
   ],
   "source": [
    "%timeit [abs(x[i] - y[j]) \\\n",
    "         for i in range(10) \\\n",
    "         for j in range(10)]"
   ]
  },
  {
   "cell_type": "code",
   "execution_count": 39,
   "id": "a3c57ef6-e694-4c4b-95ce-cafd68ee6abd",
   "metadata": {},
   "outputs": [
    {
     "name": "stdout",
     "output_type": "stream",
     "text": [
      "2.92 µs ± 16.8 ns per loop (mean ± std. dev. of 7 runs, 100,000 loops each)\n"
     ]
    }
   ],
   "source": [
    "%timeit np.abs(xa[:1000, np.newaxis] - ya[:1000])"
   ]
  },
  {
   "cell_type": "markdown",
   "id": "1b6a506d-901c-43be-bdf1-7fd512e223b6",
   "metadata": {},
   "source": [
    "speed difference"
   ]
  }
 ],
 "metadata": {
  "kernelspec": {
   "display_name": "Python 3 (ipykernel)",
   "language": "python",
   "name": "python3"
  },
  "language_info": {
   "codemirror_mode": {
    "name": "ipython",
    "version": 3
   },
   "file_extension": ".py",
   "mimetype": "text/x-python",
   "name": "python",
   "nbconvert_exporter": "python",
   "pygments_lexer": "ipython3",
   "version": "3.11.7"
  }
 },
 "nbformat": 4,
 "nbformat_minor": 5
}
