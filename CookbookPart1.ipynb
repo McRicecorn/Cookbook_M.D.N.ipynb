{
 "cells": [
  {
   "cell_type": "code",
   "execution_count": 1,
   "id": "9d747747-d24a-4b8a-ad62-27965c6ee39f",
   "metadata": {},
   "outputs": [
    {
     "data": {
      "text/plain": [
       "40"
      ]
     },
     "execution_count": 1,
     "metadata": {},
     "output_type": "execute_result"
    }
   ],
   "source": [
    "36 + 4"
   ]
  },
  {
   "cell_type": "code",
   "execution_count": 2,
   "id": "e11bba29-c796-4db1-9c10-0302c8476fa5",
   "metadata": {},
   "outputs": [
    {
     "data": {
      "text/plain": [
       "80"
      ]
     },
     "execution_count": 2,
     "metadata": {},
     "output_type": "execute_result"
    }
   ],
   "source": [
    "_ * 2"
   ]
  },
  {
   "cell_type": "markdown",
   "id": "5cf365e2-097c-4ef5-8c86-3ddc37f91709",
   "metadata": {},
   "source": [
    "Das vorherige Ergebnis genommen und um 2 multipliziert"
   ]
  },
  {
   "cell_type": "code",
   "execution_count": 4,
   "id": "9816971a-4e9e-46c7-83e0-62c77a6f1e45",
   "metadata": {},
   "outputs": [
    {
     "name": "stdout",
     "output_type": "stream",
     "text": [
      " Datentr„ger in Laufwerk C: ist Windows\n",
      " Volumeseriennummer: D8E5-A503\n",
      "\n",
      " Verzeichnis von C:\\Users\\minhd\n",
      "\n",
      "14.04.2024  14:46    <DIR>          .\n",
      "30.03.2023  15:26    <DIR>          ..\n",
      "14.04.2024  13:44    <DIR>          (UwU)\n",
      "04.01.2022  00:04             6.875 -1.14-windows.xml\n",
      "06.04.2024  14:36    <DIR>          .anaconda\n",
      "06.04.2024  15:07    <DIR>          .conda\n",
      "06.04.2024  14:36                25 .condarc\n",
      "06.04.2024  14:36    <DIR>          .continuum\n",
      "14.04.2024  14:43    <DIR>          .ipynb_checkpoints\n",
      "06.04.2024  14:46    <DIR>          .ipython\n",
      "06.04.2024  14:43    <DIR>          .jupyter\n",
      "07.04.2024  21:54    <DIR>          .matplotlib\n",
      "14.02.2024  03:12               176 .packettracer\n",
      "15.09.2021  17:09    <DIR>          .QtWebEngineProcess\n",
      "09.04.2024  18:16    <DIR>          .VirtualBox\n",
      "07.04.2024  22:08    <DIR>          .virtual_documents\n",
      "13.09.2021  16:27    <DIR>          3D Objects\n",
      "06.04.2024  14:37    <DIR>          anaconda3\n",
      "27.10.2021  17:12    <DIR>          ansel\n",
      "14.02.2024  03:12    <DIR>          Cisco Packet Tracer 8.2.1\n",
      "14.04.2024  14:07    <DIR>          Coding\n",
      "30.03.2023  22:34    <DIR>          Contacts\n",
      "18.05.2022  13:56    <DIR>          Desktop\n",
      "30.03.2022  21:09    <DIR>          Documents\n",
      "09.04.2024  15:58    <DIR>          Downloads\n",
      "30.03.2023  22:34    <DIR>          Favorites\n",
      "07.04.2024  22:13           882.629 fortune500.csv\n",
      "19.03.2024  21:00    <DIR>          JavaScript\n",
      "30.03.2023  22:34    <DIR>          Links\n",
      "30.03.2023  22:34    <DIR>          Music\n",
      "13.04.2024  21:23    <DIR>          OneDrive\n",
      "30.03.2023  22:34    <DIR>          Saved Games\n",
      "30.03.2023  22:34    <DIR>          Searches\n",
      "07.04.2024  22:10    <DIR>          source\n",
      "08.04.2024  11:14                72 Untitled.ipynb\n",
      "14.04.2024  14:46             1.325 Untitled1.ipynb\n",
      "14.04.2024  13:24           200.901 UwU.ipynb\n",
      "30.03.2023  22:34    <DIR>          Videos\n",
      "09.04.2024  15:59    <DIR>          VirtualBox VMs\n",
      "               7 Datei(en),      1.092.003 Bytes\n",
      "              32 Verzeichnis(se), 313.803.534.336 Bytes frei\n"
     ]
    }
   ],
   "source": [
    "!dir"
   ]
  },
  {
   "cell_type": "markdown",
   "id": "945b13b6-8f7c-439c-90e0-66efb36d200d",
   "metadata": {},
   "source": [
    "list of commands, starts with $ | for ios !ls"
   ]
  },
  {
   "cell_type": "code",
   "execution_count": 5,
   "id": "96d03ca8-64f5-439d-a0e0-5013de29d5b1",
   "metadata": {},
   "outputs": [
    {
     "data": {
      "application/json": {
       "cell": {
        "!": "OSMagics",
        "HTML": "Other",
        "SVG": "Other",
        "bash": "Other",
        "capture": "ExecutionMagics",
        "cmd": "Other",
        "code_wrap": "ExecutionMagics",
        "debug": "ExecutionMagics",
        "file": "Other",
        "html": "DisplayMagics",
        "javascript": "DisplayMagics",
        "js": "DisplayMagics",
        "latex": "DisplayMagics",
        "markdown": "DisplayMagics",
        "perl": "Other",
        "prun": "ExecutionMagics",
        "pypy": "Other",
        "python": "Other",
        "python2": "Other",
        "python3": "Other",
        "ruby": "Other",
        "script": "ScriptMagics",
        "sh": "Other",
        "svg": "DisplayMagics",
        "sx": "OSMagics",
        "system": "OSMagics",
        "time": "ExecutionMagics",
        "timeit": "ExecutionMagics",
        "writefile": "OSMagics"
       },
       "line": {
        "alias": "OSMagics",
        "alias_magic": "BasicMagics",
        "autoawait": "AsyncMagics",
        "autocall": "AutoMagics",
        "automagic": "AutoMagics",
        "autosave": "KernelMagics",
        "bookmark": "OSMagics",
        "cd": "OSMagics",
        "clear": "KernelMagics",
        "cls": "KernelMagics",
        "code_wrap": "ExecutionMagics",
        "colors": "BasicMagics",
        "conda": "PackagingMagics",
        "config": "ConfigMagics",
        "connect_info": "KernelMagics",
        "copy": "Other",
        "ddir": "Other",
        "debug": "ExecutionMagics",
        "dhist": "OSMagics",
        "dirs": "OSMagics",
        "doctest_mode": "BasicMagics",
        "echo": "Other",
        "ed": "Other",
        "edit": "KernelMagics",
        "env": "OSMagics",
        "gui": "BasicMagics",
        "hist": "Other",
        "history": "HistoryMagics",
        "killbgscripts": "ScriptMagics",
        "ldir": "Other",
        "less": "KernelMagics",
        "load": "CodeMagics",
        "load_ext": "ExtensionMagics",
        "loadpy": "CodeMagics",
        "logoff": "LoggingMagics",
        "logon": "LoggingMagics",
        "logstart": "LoggingMagics",
        "logstate": "LoggingMagics",
        "logstop": "LoggingMagics",
        "ls": "Other",
        "lsmagic": "BasicMagics",
        "macro": "ExecutionMagics",
        "magic": "BasicMagics",
        "mamba": "PackagingMagics",
        "matplotlib": "PylabMagics",
        "micromamba": "PackagingMagics",
        "mkdir": "Other",
        "more": "KernelMagics",
        "notebook": "BasicMagics",
        "page": "BasicMagics",
        "pastebin": "CodeMagics",
        "pdb": "ExecutionMagics",
        "pdef": "NamespaceMagics",
        "pdoc": "NamespaceMagics",
        "pfile": "NamespaceMagics",
        "pinfo": "NamespaceMagics",
        "pinfo2": "NamespaceMagics",
        "pip": "PackagingMagics",
        "popd": "OSMagics",
        "pprint": "BasicMagics",
        "precision": "BasicMagics",
        "prun": "ExecutionMagics",
        "psearch": "NamespaceMagics",
        "psource": "NamespaceMagics",
        "pushd": "OSMagics",
        "pwd": "OSMagics",
        "pycat": "OSMagics",
        "pylab": "PylabMagics",
        "qtconsole": "KernelMagics",
        "quickref": "BasicMagics",
        "recall": "HistoryMagics",
        "rehashx": "OSMagics",
        "reload_ext": "ExtensionMagics",
        "ren": "Other",
        "rep": "Other",
        "rerun": "HistoryMagics",
        "reset": "NamespaceMagics",
        "reset_selective": "NamespaceMagics",
        "rmdir": "Other",
        "run": "ExecutionMagics",
        "save": "CodeMagics",
        "sc": "OSMagics",
        "set_env": "OSMagics",
        "store": "StoreMagics",
        "sx": "OSMagics",
        "system": "OSMagics",
        "tb": "ExecutionMagics",
        "time": "ExecutionMagics",
        "timeit": "ExecutionMagics",
        "unalias": "OSMagics",
        "unload_ext": "ExtensionMagics",
        "who": "NamespaceMagics",
        "who_ls": "NamespaceMagics",
        "whos": "NamespaceMagics",
        "xdel": "NamespaceMagics",
        "xmode": "BasicMagics"
       }
      },
      "text/plain": [
       "Available line magics:\n",
       "%alias  %alias_magic  %autoawait  %autocall  %automagic  %autosave  %bookmark  %cd  %clear  %cls  %code_wrap  %colors  %conda  %config  %connect_info  %copy  %ddir  %debug  %dhist  %dirs  %doctest_mode  %echo  %ed  %edit  %env  %gui  %hist  %history  %killbgscripts  %ldir  %less  %load  %load_ext  %loadpy  %logoff  %logon  %logstart  %logstate  %logstop  %ls  %lsmagic  %macro  %magic  %mamba  %matplotlib  %micromamba  %mkdir  %more  %notebook  %page  %pastebin  %pdb  %pdef  %pdoc  %pfile  %pinfo  %pinfo2  %pip  %popd  %pprint  %precision  %prun  %psearch  %psource  %pushd  %pwd  %pycat  %pylab  %qtconsole  %quickref  %recall  %rehashx  %reload_ext  %ren  %rep  %rerun  %reset  %reset_selective  %rmdir  %run  %save  %sc  %set_env  %store  %sx  %system  %tb  %time  %timeit  %unalias  %unload_ext  %who  %who_ls  %whos  %xdel  %xmode\n",
       "\n",
       "Available cell magics:\n",
       "%%!  %%HTML  %%SVG  %%bash  %%capture  %%cmd  %%code_wrap  %%debug  %%file  %%html  %%javascript  %%js  %%latex  %%markdown  %%perl  %%prun  %%pypy  %%python  %%python2  %%python3  %%ruby  %%script  %%sh  %%svg  %%sx  %%system  %%time  %%timeit  %%writefile\n",
       "\n",
       "Automagic is ON, % prefix IS NOT needed for line magics."
      ]
     },
     "execution_count": 5,
     "metadata": {},
     "output_type": "execute_result"
    }
   ],
   "source": [
    "%lsmagic"
   ]
  },
  {
   "cell_type": "markdown",
   "id": "e41ecb70-37f1-4d16-aa67-5204601d80a3",
   "metadata": {},
   "source": [
    "list of magic commands | starts with %; target entire cell with %%"
   ]
  },
  {
   "cell_type": "code",
   "execution_count": 9,
   "id": "c3fab940-7e8f-4972-871e-a14cb8e14f9e",
   "metadata": {},
   "outputs": [
    {
     "name": "stdout",
     "output_type": "stream",
     "text": [
      "Overwriting test.txt\n"
     ]
    }
   ],
   "source": [
    "%%writefile test.txt\n",
    "Wakanda Forever"
   ]
  },
  {
   "cell_type": "markdown",
   "id": "02c32e6b-b249-4401-a37a-9995cac95f6a",
   "metadata": {},
   "source": [
    "created a textfile and wrote content in it; rewriting it and running it a second time overwrites the content"
   ]
  },
  {
   "cell_type": "code",
   "execution_count": 10,
   "id": "8c38355b-f4fe-49ab-8a5a-72ae51d52201",
   "metadata": {},
   "outputs": [
    {
     "name": "stdout",
     "output_type": "stream",
     "text": [
      "Wakanda Forever\n",
      "\n"
     ]
    }
   ],
   "source": [
    "with open('test.txt', 'r') as f:\n",
    "    print(f.read())"
   ]
  },
  {
   "cell_type": "markdown",
   "id": "4800a8d7-d42c-4c68-811f-e1c7ec4d038c",
   "metadata": {},
   "source": [
    "checks whats in the newly created file"
   ]
  },
  {
   "cell_type": "code",
   "execution_count": 12,
   "id": "d20f1d26-4055-4e40-9aeb-c380e845e9a8",
   "metadata": {},
   "outputs": [
    {
     "data": {
      "text/plain": [
       "\u001b[1;31mDocstring:\u001b[0m\n",
       "Make magic functions callable without having to type the initial %.\n",
       "\n",
       "Without arguments toggles on/off (when off, you must call it as\n",
       "%automagic, of course).  With arguments it sets the value, and you can\n",
       "use any of (case insensitive):\n",
       "\n",
       " - on, 1, True: to activate\n",
       "\n",
       " - off, 0, False: to deactivate.\n",
       "\n",
       "Note that magic functions have lowest priority, so if there's a\n",
       "variable whose name collides with that of a magic fn, automagic won't\n",
       "work for that function (you get the variable instead). However, if you\n",
       "delete the variable (del var), the previously shadowed magic function\n",
       "becomes visible to automagic again.\n",
       "\u001b[1;31mFile:\u001b[0m      c:\\users\\minhd\\anaconda3\\lib\\site-packages\\ipython\\core\\magics\\auto.py"
      ]
     },
     "metadata": {},
     "output_type": "display_data"
    }
   ],
   "source": [
    "%automagic?"
   ]
  },
  {
   "cell_type": "markdown",
   "id": "487442cf-2741-4c63-a0c5-99461db9c719",
   "metadata": {},
   "source": [
    "add ? behind a command to get more infos about it "
   ]
  },
  {
   "cell_type": "markdown",
   "id": "fde1c58c-7f46-4c7e-886c-6ec84a4f28c5",
   "metadata": {},
   "source": [
    "### New paragraph \n",
    "\n",
    "*Whats Up?*----- *Im going home**-----**Im going home** [hyperlink](https://ipython-books.github.io/11-introducing-ipython-and-the-jupyter-notebook/)\n",
    "\n",
    "math equation complicated one: $$\\hat {f} (\\xi) = \\int_{-\\infty}^{+\\infty} f(x) \\,  \\exp  \\left(-2i\\pi x \\xi \\right) dx$$\n",
    "\n",
    "\n",
    "$${f}(x) = \\sin  (23C x 44c) $$\n",
    "syntax highlighting:\n",
    "print(\"Hallo\")\n",
    "\n",
    "```python \n",
    "print(\"Hallo\")\n",
    "```\n",
    "\n",
    "![images/fluffy](https://th.bing.com/th/id/R.df7107248c503a45f7fb88bffa30e590?rik=6Dn4NfX1uv8Irw&pid=ImgRaw&r=0)\n"
   ]
  },
  {
   "cell_type": "markdown",
   "id": "14a412fc-64b1-48b4-b36c-abf692566436",
   "metadata": {},
   "source": [
    "formatting text with * * or ** ** , hyperlink used , image implented, input of equation between $$ $$, highlited ```python (language?)"
   ]
  },
  {
   "cell_type": "code",
   "execution_count": 20,
   "id": "e0c0127f-59a0-4d0c-bb47-07bab89f7dbc",
   "metadata": {},
   "outputs": [],
   "source": [
    "from IPython.display import HTML, SVG, YouTubeVideo"
   ]
  },
  {
   "cell_type": "markdown",
   "id": "4ef0daad-4fa3-4c3c-bfdb-ff190e6b17f0",
   "metadata": {},
   "source": [
    "added SVG(Scalable Vector Graphics), HTML"
   ]
  },
  {
   "cell_type": "code",
   "execution_count": 21,
   "id": "e40f36f7-4149-4dc3-a1f0-9d42ef6a026b",
   "metadata": {},
   "outputs": [
    {
     "data": {
      "text/html": [
       "\n",
       "<table style=\"border: 2px solid black;\">\n",
       "<tr><td>0,0</td><td>0,1</td><td>0,2</td><td>0,3</td><td>0,4</td></tr><tr><td>1,0</td><td>1,1</td><td>1,2</td><td>1,3</td><td>1,4</td></tr><tr><td>2,0</td><td>2,1</td><td>2,2</td><td>2,3</td><td>2,4</td></tr><tr><td>3,0</td><td>3,1</td><td>3,2</td><td>3,3</td><td>3,4</td></tr><tr><td>4,0</td><td>4,1</td><td>4,2</td><td>4,3</td><td>4,4</td></tr>\n",
       "</table>\n"
      ],
      "text/plain": [
       "<IPython.core.display.HTML object>"
      ]
     },
     "execution_count": 21,
     "metadata": {},
     "output_type": "execute_result"
    }
   ],
   "source": [
    "HTML('''\n",
    "<table style=\"border: 2px solid black;\">\n",
    "''' +\n",
    "     ''.join(['<tr>' +\n",
    "              ''.join([f'<td>{row},{col}</td>'\n",
    "                       for col in range(5)]) +\n",
    "              '</tr>' for row in range(5)]) +\n",
    "     '''\n",
    "</table>\n",
    "''')"
   ]
  },
  {
   "cell_type": "markdown",
   "id": "879c4769-19ab-4dd9-8236-933b57bae1d5",
   "metadata": {},
   "source": [
    "created table via html-based notebook"
   ]
  },
  {
   "cell_type": "code",
   "execution_count": 22,
   "id": "8e0a82cd-63f5-4b57-85a3-6c21ede97d6b",
   "metadata": {},
   "outputs": [
    {
     "data": {
      "image/svg+xml": [
       "<svg width=\"600\" height=\"80\"><circle cx=\"300\" cy=\"30\" r=\"0.0\" fill=\"red\" stroke-width=\"2\" stroke=\"black\">\n",
       "        </circle><circle cx=\"297\" cy=\"30\" r=\"3.0\" fill=\"red\" stroke-width=\"2\" stroke=\"black\">\n",
       "        </circle><circle cx=\"288\" cy=\"30\" r=\"6.0\" fill=\"red\" stroke-width=\"2\" stroke=\"black\">\n",
       "        </circle><circle cx=\"273\" cy=\"30\" r=\"9.0\" fill=\"red\" stroke-width=\"2\" stroke=\"black\">\n",
       "        </circle><circle cx=\"252\" cy=\"30\" r=\"12.0\" fill=\"red\" stroke-width=\"2\" stroke=\"black\">\n",
       "        </circle><circle cx=\"225\" cy=\"30\" r=\"15.0\" fill=\"red\" stroke-width=\"2\" stroke=\"black\">\n",
       "        </circle><circle cx=\"192\" cy=\"30\" r=\"18.0\" fill=\"red\" stroke-width=\"2\" stroke=\"black\">\n",
       "        </circle><circle cx=\"153\" cy=\"30\" r=\"21.0\" fill=\"red\" stroke-width=\"2\" stroke=\"black\">\n",
       "        </circle><circle cx=\"108\" cy=\"30\" r=\"24.0\" fill=\"red\" stroke-width=\"2\" stroke=\"black\">\n",
       "        </circle><circle cx=\"57\" cy=\"30\" r=\"27.0\" fill=\"red\" stroke-width=\"2\" stroke=\"black\">\n",
       "        </circle></svg>"
      ],
      "text/plain": [
       "<IPython.core.display.SVG object>"
      ]
     },
     "execution_count": 22,
     "metadata": {},
     "output_type": "execute_result"
    }
   ],
   "source": [
    "SVG('''<svg width=\"600\" height=\"80\">''' +\n",
    "    ''.join([f'''<circle\n",
    "              cx=\"{(30 + 3*i) * (10 - i)}\"\n",
    "              cy=\"30\"\n",
    "              r=\"{3. * float(i)}\"\n",
    "              fill=\"red\"\n",
    "              stroke-width=\"2\"\n",
    "              stroke=\"black\">\n",
    "        </circle>''' for i in range(10)]) +\n",
    "    '''</svg>''')"
   ]
  },
  {
   "cell_type": "markdown",
   "id": "5d40cd4c-0a57-4567-9722-b1347865dd88",
   "metadata": {},
   "source": [
    "added SVG graphics dynamically"
   ]
  },
  {
   "cell_type": "markdown",
   "id": "96d18c3c-f022-4eb2-bd40-aea34aa0ec0d",
   "metadata": {},
   "source": [
    "YouTubeVideo('VQBZ2MqWBZI') | thats how a Video would be added"
   ]
  },
  {
   "cell_type": "code",
   "execution_count": 26,
   "id": "138dfac5-baba-4be5-aa3b-7f87a932a2e5",
   "metadata": {},
   "outputs": [
    {
     "data": {
      "image/jpeg": "[encoded data removed]",
      "text/html": [
       "\n",
       "        <iframe\n",
       "            width=\"400\"\n",
       "            height=\"300\"\n",
       "            src=\"https://www.youtube.com/embed/dtcgBjj4IQU\"\n",
       "            frameborder=\"0\"\n",
       "            allowfullscreen\n",
       "            \n",
       "        ></iframe>\n",
       "        "
      ],
      "text/plain": [
       "<IPython.lib.display.YouTubeVideo at 0x241631cf450>"
      ]
     },
     "execution_count": 26,
     "metadata": {},
     "output_type": "execute_result"
    }
   ],
   "source": [
    "YouTubeVideo('dtcgBjj4IQU')"
   ]
  },
  {
   "cell_type": "markdown",
   "id": "c844cbbf-3677-4889-86d3-663ae7a50f3c",
   "metadata": {},
   "source": [
    "Video added; with letters in the end of the URL from the video"
   ]
  }
 ],
 "metadata": {
  "kernelspec": {
   "display_name": "Python 3 (ipykernel)",
   "language": "python",
   "name": "python3"
  },
  "language_info": {
   "codemirror_mode": {
    "name": "ipython",
    "version": 3
   },
   "file_extension": ".py",
   "mimetype": "text/x-python",
   "name": "python",
   "nbconvert_exporter": "python",
   "pygments_lexer": "ipython3",
   "version": "3.11.7"
  }
 },
 "nbformat": 4,
 "nbformat_minor": 5
}
