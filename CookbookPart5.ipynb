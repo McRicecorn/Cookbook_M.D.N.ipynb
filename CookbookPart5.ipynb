{
 "cells": [
  {
   "cell_type": "code",
   "execution_count": 4,
   "id": "1e62d19f-e213-48af-9c72-b8c58433a5b7",
   "metadata": {},
   "outputs": [
    {
     "name": "stdout",
     "output_type": "stream",
     "text": [
      "Writing random_magics.py\n"
     ]
    }
   ],
   "source": [
    "%%writefile random_magics.py\n",
    "\n",
    "from traitlets import Int, Float, Unicode, Bool\n",
    "from IPython.core.magic import (Magics, magics_class,\n",
    "                                line_magic)\n",
    "import numpy as np"
   ]
  },
  {
   "cell_type": "code",
   "execution_count": 6,
   "id": "5accf170-aab8-4270-8716-ecd54f477ea0",
   "metadata": {},
   "outputs": [
    {
     "name": "stdout",
     "output_type": "stream",
     "text": [
      "Appending to random_magics.py\n"
     ]
    }
   ],
   "source": [
    "%%writefile random_magics.py -a\n",
    "\n",
    "@magics_class\n",
    "class RandomMagics(Magics):\n",
    "    text = Unicode(u'{n}', config=True)\n",
    "    max = Int(200, config=True)\n",
    "    seed = Int(0, config=True)"
   ]
  },
  {
   "cell_type": "markdown",
   "id": "589880bf-0af1-4eaa-9c06-5a435a360d38",
   "metadata": {},
   "source": [
    "created RandomMagics class\n",
    "change: \n",
    "int 1000 -> 100"
   ]
  },
  {
   "cell_type": "code",
   "execution_count": 7,
   "id": "bad01750-b225-4d62-80f8-dbb358c4258c",
   "metadata": {},
   "outputs": [
    {
     "name": "stdout",
     "output_type": "stream",
     "text": [
      "Appending to random_magics.py\n"
     ]
    }
   ],
   "source": [
    "%%writefile random_magics.py -a\n",
    "\n",
    "    def __init__(self, shell):\n",
    "        super(RandomMagics, self).__init__(shell)\n",
    "        self._rng = np.random.RandomState(\n",
    "            self.seed or None)"
   ]
  },
  {
   "cell_type": "code",
   "execution_count": 11,
   "id": "11a9043b-f9d0-456d-9348-0be8b7ddd446",
   "metadata": {},
   "outputs": [
    {
     "name": "stdout",
     "output_type": "stream",
     "text": [
      "Appending to random_magics.py\n"
     ]
    }
   ],
   "source": [
    "%%writefile random_magics.py -a\n",
    "\n",
    "    @line_magic\n",
    "    def baka(self, line):\n",
    "        return self.text.format(\n",
    "            n=self._rng.randint(self.max))"
   ]
  },
  {
   "cell_type": "markdown",
   "id": "8886a2a5-cf6a-411e-ba6c-da4120d6f86d",
   "metadata": {},
   "source": [
    "created new line magic : baka\n",
    "change:\n",
    "random -> baka"
   ]
  },
  {
   "cell_type": "code",
   "execution_count": 12,
   "id": "d4e972ee-ad5a-4987-a9cd-c8483a54acc5",
   "metadata": {},
   "outputs": [
    {
     "name": "stdout",
     "output_type": "stream",
     "text": [
      "Appending to random_magics.py\n"
     ]
    }
   ],
   "source": [
    "%%writefile random_magics.py -a\n",
    "\n",
    "def load_ipython_extension(ipython):\n",
    "    ipython.register_magics(RandomMagics)"
   ]
  },
  {
   "cell_type": "markdown",
   "id": "904dfdb0-da17-41f4-9d0b-1a2a528eae22",
   "metadata": {},
   "source": [
    "register magic when extension loaded"
   ]
  },
  {
   "cell_type": "code",
   "execution_count": 16,
   "id": "09faa376-61fa-4801-baf9-bfaf23d3a522",
   "metadata": {},
   "outputs": [
    {
     "data": {
      "text/plain": [
       "'186'"
      ]
     },
     "execution_count": 16,
     "metadata": {},
     "output_type": "execute_result"
    }
   ],
   "source": [
    "%reload_ext random_magics\n",
    "%random"
   ]
  },
  {
   "cell_type": "markdown",
   "id": "ded573b1-8d37-4da2-9006-b61cf79a5e52",
   "metadata": {},
   "source": [
    "Baka couldnt be used for some reason"
   ]
  },
  {
   "cell_type": "markdown",
   "id": "6eb9b1a2-c4d6-4256-9320-35be200000b9",
   "metadata": {},
   "source": [
    "ipython --RandomMagics.text='Your number is {n}.' \\\n",
    "        --RandomMagics.max=10 \\\n",
    "        --RandomMagics.seed=1\n",
    "\n",
    "c.RandomMagics.text = 'random {n}'"
   ]
  },
  {
   "cell_type": "code",
   "execution_count": null,
   "id": "f1ab23ca-1cd5-43e1-8fcf-f8768d4b8476",
   "metadata": {},
   "outputs": [],
   "source": []
  }
 ],
 "metadata": {
  "kernelspec": {
   "display_name": "Python 3 (ipykernel)",
   "language": "python",
   "name": "python3"
  },
  "language_info": {
   "codemirror_mode": {
    "name": "ipython",
    "version": 3
   },
   "file_extension": ".py",
   "mimetype": "text/x-python",
   "name": "python",
   "nbconvert_exporter": "python",
   "pygments_lexer": "ipython3",
   "version": "3.11.7"
  }
 },
 "nbformat": 4,
 "nbformat_minor": 5
}
